{
 "cells": [
  {
   "cell_type": "markdown",
   "id": "32600998",
   "metadata": {},
   "source": [
    "# Exercício\n",
    "\n",
    "Construa um programa que:\n",
    " - Pergunte a usuária 2 números inteiros;\n",
    " - Crie uma lista numérica do intervalo;\n",
    " - Se o número for divisível por 3, substitua-o por \"Tecnologia\";\n",
    " - Se o número for divisível por 5, substitua-o por \"Cívica\";\n",
    " - Se o número for divisível por 3 e 5, substitua-o por \"Tecnologia Cívica\"."
   ]
  },
  {
   "cell_type": "code",
   "execution_count": 1,
   "id": "c76613ba",
   "metadata": {},
   "outputs": [
    {
     "name": "stdout",
     "output_type": "stream",
     "text": [
      "Digite um número:3\n"
     ]
    }
   ],
   "source": [
    "num1 = int(input('Digite um número:'))"
   ]
  },
  {
   "cell_type": "code",
   "execution_count": 2,
   "id": "cd6975eb",
   "metadata": {},
   "outputs": [
    {
     "name": "stdout",
     "output_type": "stream",
     "text": [
      "Digite outro número:30\n"
     ]
    }
   ],
   "source": [
    "num2 = int(input('Digite outro número:'))"
   ]
  },
  {
   "cell_type": "code",
   "execution_count": 3,
   "id": "319541f7",
   "metadata": {},
   "outputs": [],
   "source": [
    "num = []"
   ]
  },
  {
   "cell_type": "code",
   "execution_count": 4,
   "id": "0d6ce660",
   "metadata": {},
   "outputs": [],
   "source": [
    "for i in range(num1,num2):\n",
    "    num.append(i)"
   ]
  },
  {
   "cell_type": "code",
   "execution_count": 9,
   "id": "78ab6a29",
   "metadata": {},
   "outputs": [
    {
     "name": "stdout",
     "output_type": "stream",
     "text": [
      "[3, 4, 5, 6, 7, 8, 9, 10, 11, 12, 13, 14, 15, 16, 17, 18, 19, 20, 21, 22, 23, 24, 25, 26, 27, 28, 29]\n"
     ]
    }
   ],
   "source": [
    "print(num)"
   ]
  },
  {
   "cell_type": "code",
   "execution_count": 10,
   "id": "e1a69fa3",
   "metadata": {},
   "outputs": [],
   "source": [
    "num_nova = []"
   ]
  },
  {
   "cell_type": "code",
   "execution_count": 11,
   "id": "1b109d6c",
   "metadata": {},
   "outputs": [],
   "source": [
    "for i in num:\n",
    "    if i % 3 == 0:\n",
    "        num_nova.append(['Tecnologia'])\n",
    "    elif i % 5 == 0:\n",
    "        num_nova.append(['Cívica']) \n",
    "    elif ((i % 3 == 0) and (i % 5 == 0)):\n",
    "        num_nova.append(['Tecnologia Cívica']) "
   ]
  },
  {
   "cell_type": "code",
   "execution_count": 12,
   "id": "20b76ae1",
   "metadata": {},
   "outputs": [
    {
     "name": "stdout",
     "output_type": "stream",
     "text": [
      "[['Tecnologia'], ['Cívica'], ['Tecnologia'], ['Tecnologia'], ['Cívica'], ['Tecnologia'], ['Tecnologia'], ['Tecnologia'], ['Cívica'], ['Tecnologia'], ['Tecnologia'], ['Cívica'], ['Tecnologia']]\n"
     ]
    }
   ],
   "source": [
    "print(num_nova)"
   ]
  },
  {
   "cell_type": "code",
   "execution_count": null,
   "id": "14c36da9",
   "metadata": {},
   "outputs": [],
   "source": []
  },
  {
   "cell_type": "code",
   "execution_count": null,
   "id": "4aa783f0",
   "metadata": {},
   "outputs": [],
   "source": []
  }
 ],
 "metadata": {
  "kernelspec": {
   "display_name": "Python 3 (ipykernel)",
   "language": "python",
   "name": "python3"
  },
  "language_info": {
   "codemirror_mode": {
    "name": "ipython",
    "version": 3
   },
   "file_extension": ".py",
   "mimetype": "text/x-python",
   "name": "python",
   "nbconvert_exporter": "python",
   "pygments_lexer": "ipython3",
   "version": "3.9.12"
  },
  "nbTranslate": {
   "displayLangs": [
    "*"
   ],
   "hotkey": "alt-t",
   "langInMainMenu": true,
   "sourceLang": "en",
   "targetLang": "fr",
   "useGoogleTranslate": true
  },
  "varInspector": {
   "cols": {
    "lenName": 16,
    "lenType": 16,
    "lenVar": 40
   },
   "kernels_config": {
    "python": {
     "delete_cmd_postfix": "",
     "delete_cmd_prefix": "del ",
     "library": "var_list.py",
     "varRefreshCmd": "print(var_dic_list())"
    },
    "r": {
     "delete_cmd_postfix": ") ",
     "delete_cmd_prefix": "rm(",
     "library": "var_list.r",
     "varRefreshCmd": "cat(var_dic_list()) "
    }
   },
   "types_to_exclude": [
    "module",
    "function",
    "builtin_function_or_method",
    "instance",
    "_Feature"
   ],
   "window_display": false
  }
 },
 "nbformat": 4,
 "nbformat_minor": 5
}
